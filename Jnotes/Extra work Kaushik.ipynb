{
 "cells": [
  {
   "cell_type": "markdown",
   "id": "5e3305b9",
   "metadata": {},
   "source": [
    "Per subject validation\n",
    "1. Set test subject as required\n",
    "2. Remove unnecessary Columns and convert dataframes to numpy arrays\n",
    "3. Import sklearn library\n",
    "4. Converting string labels into numbers using labelencoder\n",
    "5. Split data into train and test sets"
   ]
  },
  {
   "cell_type": "code",
   "execution_count": null,
   "id": "4a6246bf",
   "metadata": {},
   "outputs": [],
   "source": [
    "def per_subject(dataframe):\n",
    "    X = dataframe.drop(\"Label\", axis=1)\n",
    "    X = X.drop(\"Subject\", axis=1)\n",
    "    X = X.values\n",
    "    y = dataframe[\"Label\"]\n",
    "    y = y.values\n",
    "\n",
    "    # Import LabelEncoder\n",
    "    from sklearn import preprocessing\n",
    "    #creating labelEncoder\n",
    "    le = preprocessing.LabelEncoder()\n",
    "    # Converting string labels into numbers.\n",
    "    y_encoded=le.fit_transform(y)\n",
    "\n",
    "    from sklearn.model_selection import train_test_split\n",
    "    X_train, X_test, y_train, y_test = train_test_split(X, y_encoded, test_size=0.2, random_state=12345)\n",
    "    \n",
    "    kNN_model(X_train, y_train, X_test, y_test)\n",
    "    SVM_model(X_train, y_train, X_test, y_test)\n",
    "\n",
    "print(\"Subject1:\") \n",
    "per_subject(df_subj1) # Subject 1\n",
    "print(\"Subject2:\")\n",
    "per_subject(df_subj2) # Subject 2"
   ]
  },
  {
   "cell_type": "markdown",
   "id": "8741b74d",
   "metadata": {},
   "source": [
    "Cross subject validation\n",
    "1. Remove data with label 'dribbling' for subject2\n",
    "2. Select train and test subjects as required\n",
    "3. Remove unnecessary Columns and convert dataframes to numpy arrays\n",
    "4. Import sklearn library\n",
    "5. Converting string labels into numbers using labelencoder"
   ]
  },
  {
   "cell_type": "code",
   "execution_count": null,
   "id": "0aad98f8",
   "metadata": {},
   "outputs": [],
   "source": [
    "new_df_subj2 = df_subj2.loc[df_subj2['Label'] != 'dribbling']\n",
    "\n",
    "def cross_subject(train_data, test_data):\n",
    "    X_train = train_data.drop(\"Label\", axis=1)\n",
    "    X_train = X_train.drop(\"Subject\", axis=1)\n",
    "    X_train = X_train.values\n",
    "    y_train = train_data[\"Label\"]\n",
    "    y_train = y_train.values\n",
    "\n",
    "    X_test = test_data.drop(\"Label\", axis=1)\n",
    "    X_test = X_test.drop(\"Subject\", axis=1)\n",
    "    X_test = X_test.values\n",
    "    y_test = test_data[\"Label\"]\n",
    "    y_test = y_test.values\n",
    "\n",
    "    # Import LabelEncoder\n",
    "    from sklearn import preprocessing\n",
    "    #creating labelEncoder\n",
    "    le = preprocessing.LabelEncoder()\n",
    "    # Converting string labels into numbers.\n",
    "    y_train=le.fit_transform(y_train)\n",
    "    y_test=le.fit_transform(y_test)\n",
    "\n",
    "    kNN_model(X_train, y_train, X_test, y_test)\n",
    "    SVM_model(X_train, y_train, X_test, y_test)\n",
    "\n",
    "print(\"Subject1:Train, Subject2:Test\") \n",
    "cross_subject(df_subj1, new_df_subj2) # Subject1:Train\n",
    "print(\"Subject2:Train, Subject1:Test\")\n",
    "cross_subject(new_df_subj2, df_subj1) # Subject2:Train"
   ]
  }
 ],
 "metadata": {
  "kernelspec": {
   "display_name": "Python 3",
   "language": "python",
   "name": "python3"
  },
  "language_info": {
   "codemirror_mode": {
    "name": "ipython",
    "version": 3
   },
   "file_extension": ".py",
   "mimetype": "text/x-python",
   "name": "python",
   "nbconvert_exporter": "python",
   "pygments_lexer": "ipython3",
   "version": "3.8.8"
  }
 },
 "nbformat": 4,
 "nbformat_minor": 5
}
