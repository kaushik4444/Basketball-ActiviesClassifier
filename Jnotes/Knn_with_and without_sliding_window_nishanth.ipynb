{
 "cells": [
  {
   "cell_type": "markdown",
   "metadata": {},
   "source": [
    "**Nishanth Iruthayaraj**"
   ]
  },
  {
   "cell_type": "markdown",
   "metadata": {},
   "source": [
    "**Importing and Reading**"
   ]
  },
  {
   "cell_type": "code",
   "execution_count": null,
   "metadata": {},
   "outputs": [],
   "source": [
    "import pandas as pd\n",
    "import numpy as np\n",
    "\n",
    "df = pd.read_csv('df_activity.csv', index_col = 0)\n",
    "#df.head()"
   ]
  },
  {
   "cell_type": "markdown",
   "metadata": {},
   "source": [
    "**Encoding the Label**"
   ]
  },
  {
   "cell_type": "code",
   "execution_count": null,
   "metadata": {},
   "outputs": [],
   "source": [
    "from sklearn.preprocessing import LabelEncoder\n",
    "\n",
    "label = LabelEncoder()\n",
    "df['Label'] = label.fit_transform(df['Label'].values)\n",
    "\n",
    "#To check corresponding label values\n",
    "#df['Label_encoded'] = LabelEncoder().fit_transform(df['Label'].values)\n",
    "#df.sample(n=50)"
   ]
  },
  {
   "cell_type": "markdown",
   "metadata": {},
   "source": [
    "**Without Sliding Window**"
   ]
  },
  {
   "cell_type": "code",
   "execution_count": null,
   "metadata": {},
   "outputs": [],
   "source": [
    "Xs = df.iloc[:,:-1].values\n",
    "ys = df.iloc[:,-1].values"
   ]
  },
  {
   "cell_type": "markdown",
   "metadata": {},
   "source": [
    "**Spliting Train and Test Set**"
   ]
  },
  {
   "cell_type": "code",
   "execution_count": null,
   "metadata": {},
   "outputs": [],
   "source": [
    "from sklearn.model_selection import train_test_split\n",
    "\n",
    "Xs1_train, Xs1_test, ys1_train, ys1_test = train_test_split(Xs, ys, test_size = 0.2, random_state = 1, shuffle = False)\n",
    "Xs1_train.shape, Xs1_test.shape, ys1_train.shape, ys1_test.shape"
   ]
  },
  {
   "cell_type": "markdown",
   "metadata": {},
   "source": [
    "**KNN Model**"
   ]
  },
  {
   "cell_type": "code",
   "execution_count": null,
   "metadata": {},
   "outputs": [],
   "source": [
    "from sklearn.neighbors import KNeighborsClassifier\n",
    "\n",
    "n = 91\n",
    "#n = 7 # uncomment this and comment above for using entire data set as test \n",
    "classify = KNeighborsClassifier(n_neighbors= n, p = 2, n_jobs = -1)\n",
    "classify.fit(Xs1_train, ys1_train)"
   ]
  },
  {
   "cell_type": "code",
   "execution_count": null,
   "metadata": {},
   "outputs": [],
   "source": [
    "ys1_pred = classify.predict(Xs1_test)\n",
    "#ys1_pred = classify.predict(Xs) # uncomment this and comment above for using entire data set as test "
   ]
  },
  {
   "cell_type": "markdown",
   "metadata": {},
   "source": [
    "**Accuracy score and Confusion Matrix**"
   ]
  },
  {
   "cell_type": "code",
   "execution_count": null,
   "metadata": {},
   "outputs": [],
   "source": [
    "from sklearn.metrics import accuracy_score\n",
    "\n",
    "print('Accuracy score : ', accuracy_score(ys1_test, ys1_pred))\n",
    "#print('Accuracy score : ', accuracy_score(ys, ys1_pred)) # uncomment this and comment above for using entire data set"
   ]
  },
  {
   "cell_type": "code",
   "execution_count": null,
   "metadata": {},
   "outputs": [],
   "source": [
    "from sklearn.metrics import confusion_matrix\n",
    "\n",
    "confusion_matrix(ys1_test, ys1_pred)\n",
    "#confusion_matrix(ys, ys1_pred) # uncomment this and comment above for using entire data set "
   ]
  },
  {
   "cell_type": "markdown",
   "metadata": {},
   "source": [
    "**With Sliding Window**"
   ]
  },
  {
   "cell_type": "code",
   "execution_count": null,
   "metadata": {},
   "outputs": [],
   "source": [
    "def sliding_window_samples(data, samples_per_window, overlap_ratio):\n",
    "    windows = []\n",
    "    indices = []\n",
    "    curr =  0\n",
    "    win_len = samples_per_window\n",
    "    if overlap_ratio !=  None :\n",
    "        overlapping_elements = int((overlap_ratio / 100) * (win_len))\n",
    "    if overlapping_elements >= win_len:\n",
    "        print('Number of overlapping elements exceeds window size.')\n",
    "    while (curr < len(data) - win_len):\n",
    "         windows.append(data[curr:curr + win_len])\n",
    "         indices.append([curr, curr + win_len])\n",
    "         curr = curr + win_len - overlapping_elements\n",
    "         \n",
    "         try:\n",
    "            result_windows = np.array(windows)\n",
    "            result_indices = np.array(indices)\n",
    "         except:\n",
    "             result_windows = np.empty( shape =(len(windows), win_len, data.shape[1]), dtype =object)\n",
    "             result_indices = np.array(indices)\n",
    "             for i in range(0, len(windows)):\n",
    "                result_windows[i] = windows[i]\n",
    "                result_indices[i] = indices[i]\n",
    "    return result_windows, result_indices"
   ]
  },
  {
   "cell_type": "code",
   "execution_count": null,
   "metadata": {},
   "outputs": [],
   "source": [
    "window_length = 100\n",
    "window_skip = 50\n",
    "df_1, df_2 = sliding_window_samples(df, window_length, window_skip)\n",
    "data = np.array(df_1, dtype = float)\n",
    "data.shape"
   ]
  },
  {
   "cell_type": "markdown",
   "metadata": {},
   "source": [
    "**Spliting Train and Test Set**"
   ]
  },
  {
   "cell_type": "code",
   "execution_count": null,
   "metadata": {},
   "outputs": [],
   "source": [
    "from sklearn.model_selection import train_test_split\n",
    "\n",
    "X = data[:, : ,0:12]\n",
    "y = data[:, : , 12]\n",
    "X_train, X_test, y_train, y_test = train_test_split(X, y, test_size = 0.2, random_state = 123, shuffle = False)\n",
    "X_train.shape, X_test.shape, y_train.shape, y_test.shape"
   ]
  },
  {
   "cell_type": "markdown",
   "metadata": {},
   "source": [
    "**Dimensionality reduction for KNN Model**"
   ]
  },
  {
   "cell_type": "code",
   "execution_count": null,
   "metadata": {},
   "outputs": [],
   "source": [
    "def dim_reduction(s):\n",
    "    axis = 1\n",
    "    y, indices = np.unique(s, return_inverse=True)\n",
    "    y_new = y[np.argmax(np.apply_along_axis(np.bincount, axis, indices.reshape(s.shape),None, np.max(indices) + 1), axis=axis)]\n",
    "    return y_new"
   ]
  },
  {
   "cell_type": "code",
   "execution_count": null,
   "metadata": {},
   "outputs": [],
   "source": [
    "X1_train = np.reshape(X_train, (X_train.shape[0], -1))\n",
    "X1_test = np.reshape(X_test, (X_test.shape[0], -1))\n",
    "\n",
    "y1_train = dim_reduction(y_train) # Taking most common value in each window\n",
    "y1_test = dim_reduction(y_test)\n",
    "#y1_train = y_train[:,99] Taking last value in each window\n",
    "#y1_test = y_test[:,99]\n"
   ]
  },
  {
   "cell_type": "markdown",
   "metadata": {},
   "source": [
    "**Reshaping entire dataset for testing purpose**"
   ]
  },
  {
   "cell_type": "code",
   "execution_count": null,
   "metadata": {},
   "outputs": [],
   "source": [
    "Xd = np.reshape(X, (X.shape[0], -1))\n",
    "yd = dim_reduction(y)"
   ]
  },
  {
   "cell_type": "markdown",
   "metadata": {},
   "source": [
    "**KNN Model**"
   ]
  },
  {
   "cell_type": "code",
   "execution_count": null,
   "metadata": {},
   "outputs": [],
   "source": [
    "from sklearn.neighbors import KNeighborsClassifier\n",
    "\n",
    "n = 51\n",
    "#n = 3 # uncomment this and comment above for using entire data set as test\n",
    "classify = KNeighborsClassifier(n_neighbors= n, p = 2, n_jobs = -1)\n",
    "classify.fit(X1_train, y1_train)"
   ]
  },
  {
   "cell_type": "code",
   "execution_count": null,
   "metadata": {},
   "outputs": [],
   "source": [
    "y1_pred = classify.predict(X1_test)\n",
    "#y1_pred = classify.predict(Xd) # uncomment this and comment above for using entire data set as test"
   ]
  },
  {
   "cell_type": "markdown",
   "metadata": {},
   "source": [
    "**Accuracy score and Confusion Matrix**"
   ]
  },
  {
   "cell_type": "code",
   "execution_count": null,
   "metadata": {},
   "outputs": [],
   "source": [
    "from sklearn.metrics import accuracy_score\n",
    "\n",
    "print('Accuracy score : ', accuracy_score(y1_test, y1_pred))\n",
    "#print('Accuracy score : ', accuracy_score(yd, y1_pred)) # uncomment this and comment above for using entire data set "
   ]
  },
  {
   "cell_type": "code",
   "execution_count": null,
   "metadata": {},
   "outputs": [],
   "source": [
    "from sklearn.metrics import confusion_matrix\n",
    "\n",
    "confusion_matrix(y1_test, y1_pred)\n",
    "#confusion_matrix(yd, y1_pred) # uncomment this and comment above for using entire data set "
   ]
  }
 ],
 "metadata": {
  "kernelspec": {
   "display_name": "Python 3",
   "language": "python",
   "name": "python3"
  },
  "language_info": {
   "codemirror_mode": {
    "name": "ipython",
    "version": 3
   },
   "file_extension": ".py",
   "mimetype": "text/x-python",
   "name": "python",
   "nbconvert_exporter": "python",
   "pygments_lexer": "ipython3",
   "version": "3.8.8"
  }
 },
 "nbformat": 4,
 "nbformat_minor": 4
}
