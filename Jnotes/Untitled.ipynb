{
 "cells": [
  {
   "cell_type": "code",
   "execution_count": 5,
   "id": "87cb9729",
   "metadata": {},
   "outputs": [
    {
     "name": "stdout",
     "output_type": "stream",
     "text": [
      "       1618416775095  eSense-0012  -0.331298828125  0.829345703125  \\\n",
      "0      1618416775102  eSense-0012        -0.340088        0.836914   \n",
      "1      1618416775104  eSense-0012        -0.341309        0.838623   \n",
      "2      1618416775200  eSense-0012        -0.346191        0.827637   \n",
      "3      1618416775202  eSense-0012        -0.354736        0.835693   \n",
      "4      1618416775204  eSense-0012        -0.371582        0.837158   \n",
      "...              ...          ...              ...             ...   \n",
      "35247  1618418950680  eSense-0012        -0.383789       -0.145752   \n",
      "35248  1618418950690  eSense-0012        -0.382324       -0.145264   \n",
      "35249  1618418950770  eSense-0012        -0.383057       -0.145996   \n",
      "35250  1618418950785  eSense-0012        -0.384033       -0.144531   \n",
      "35251  1618418950795  eSense-0012        -0.383545       -0.141602   \n",
      "\n",
      "       -0.483154296875  -0.9756097560975611  -7.469512195121952  \\\n",
      "0            -0.488037            -1.890244           -9.237805   \n",
      "1            -0.491455            -1.341463          -10.548780   \n",
      "2            -0.489502             0.152439          -11.890244   \n",
      "3            -0.500244             2.682927          -13.841463   \n",
      "4            -0.499756             2.987805          -16.554878   \n",
      "...                ...                  ...                 ...   \n",
      "35247         0.939453            -1.341463            2.195122   \n",
      "35248         0.939697            -1.432927            1.524390   \n",
      "35249         0.936279            -1.371951            1.067073   \n",
      "35250         0.936035            -1.036585            1.189024   \n",
      "35251         0.938721            -0.884146            1.432927   \n",
      "\n",
      "       -4.085365853658537  shooting  \n",
      "0               -4.542683  shooting  \n",
      "1               -4.481707  shooting  \n",
      "2               -6.707317  shooting  \n",
      "3              -10.152439  shooting  \n",
      "4              -12.835366  shooting  \n",
      "...                   ...       ...  \n",
      "35247            0.000000   running  \n",
      "35248            0.091463   running  \n",
      "35249            0.030488   running  \n",
      "35250            0.000000   running  \n",
      "35251           -0.060976   running  \n",
      "\n",
      "[35252 rows x 9 columns]\n"
     ]
    }
   ],
   "source": [
    "import pandas as pd\n",
    "df = pd.read_csv('D:\\Education\\StudienArbeit - Basketball activities\\RAML_basketball_dataset\\sensor_data\\eSense_sbj1.csv')\n",
    "print(df)"
   ]
  },
  {
   "cell_type": "code",
   "execution_count": null,
   "id": "3f856cda",
   "metadata": {},
   "outputs": [],
   "source": []
  }
 ],
 "metadata": {
  "kernelspec": {
   "display_name": "Python 3",
   "language": "python",
   "name": "python3"
  },
  "language_info": {
   "codemirror_mode": {
    "name": "ipython",
    "version": 3
   },
   "file_extension": ".py",
   "mimetype": "text/x-python",
   "name": "python",
   "nbconvert_exporter": "python",
   "pygments_lexer": "ipython3",
   "version": "3.8.8"
  }
 },
 "nbformat": 4,
 "nbformat_minor": 5
}
