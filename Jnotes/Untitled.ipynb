{
 "cells": [
  {
   "cell_type": "code",
   "execution_count": 1,
   "id": "87cb9729",
   "metadata": {
    "scrolled": true
   },
   "outputs": [
    {
     "name": "stdout",
     "output_type": "stream",
     "text": [
      "                    Timestamp       Device         1         2         3  \\\n",
      "0     2021-04-14 18:12:55.095  eSense-0012 -0.331299  0.829346 -0.483154   \n",
      "1     2021-04-14 18:12:55.102  eSense-0012 -0.340088  0.836914 -0.488037   \n",
      "2     2021-04-14 18:12:55.104  eSense-0012 -0.341309  0.838623 -0.491455   \n",
      "3     2021-04-14 18:12:55.200  eSense-0012 -0.346191  0.827637 -0.489502   \n",
      "4     2021-04-14 18:12:55.202  eSense-0012 -0.354736  0.835693 -0.500244   \n",
      "...                       ...          ...       ...       ...       ...   \n",
      "35248 2021-04-14 18:49:10.680  eSense-0012 -0.383789 -0.145752  0.939453   \n",
      "35249 2021-04-14 18:49:10.690  eSense-0012 -0.382324 -0.145264  0.939697   \n",
      "35250 2021-04-14 18:49:10.770  eSense-0012 -0.383057 -0.145996  0.936279   \n",
      "35251 2021-04-14 18:49:10.785  eSense-0012 -0.384033 -0.144531  0.936035   \n",
      "35252 2021-04-14 18:49:10.795  eSense-0012 -0.383545 -0.141602  0.938721   \n",
      "\n",
      "              4          5          6     Label  \n",
      "0     -0.975610  -7.469512  -4.085366  shooting  \n",
      "1     -1.890244  -9.237805  -4.542683  shooting  \n",
      "2     -1.341463 -10.548780  -4.481707  shooting  \n",
      "3      0.152439 -11.890244  -6.707317  shooting  \n",
      "4      2.682927 -13.841463 -10.152439  shooting  \n",
      "...         ...        ...        ...       ...  \n",
      "35248 -1.341463   2.195122   0.000000   running  \n",
      "35249 -1.432927   1.524390   0.091463   running  \n",
      "35250 -1.371951   1.067073   0.030488   running  \n",
      "35251 -1.036585   1.189024   0.000000   running  \n",
      "35252 -0.884146   1.432927  -0.060976   running  \n",
      "\n",
      "[35253 rows x 9 columns]\n"
     ]
    }
   ],
   "source": [
    "import pandas as pd\n",
    "df = pd.read_csv('..\\sensor_data\\eSense_sbj1.csv', names=['Timestamp','Device','1','2','3','4','5','6','Label'])\n",
    "df.Timestamp = pd.to_datetime(df.Timestamp, unit='ms') + pd.Timedelta('02:00:00')\n",
    "df\n",
    "print(df)\n"
   ]
  },
  {
   "cell_type": "code",
   "execution_count": null,
   "id": "0e798aa6",
   "metadata": {},
   "outputs": [],
   "source": []
  }
 ],
 "metadata": {
  "kernelspec": {
   "display_name": "Python 3",
   "language": "python",
   "name": "python3"
  },
  "language_info": {
   "codemirror_mode": {
    "name": "ipython",
    "version": 3
   },
   "file_extension": ".py",
   "mimetype": "text/x-python",
   "name": "python",
   "nbconvert_exporter": "python",
   "pygments_lexer": "ipython3",
   "version": "3.8.8"
  }
 },
 "nbformat": 4,
 "nbformat_minor": 5
}
