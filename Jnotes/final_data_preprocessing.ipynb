{
 "cells": [
  {
   "cell_type": "markdown",
   "metadata": {
    "scrolled": false
   },
   "source": [
    "**Reading files and interpolating**"
   ]
  },
  {
   "cell_type": "code",
   "execution_count": 2,
   "metadata": {},
   "outputs": [],
   "source": [
    "import pandas as pd\n",
    "import numpy as np\n",
    "import datetime\n",
    "\n",
    "c_heads = ['Time', 'Device', 'e1' , 'e2' , 'e3' , 'e4' , 'e5' , 'e6' ,'Label']\n",
    "\n",
    "df_sub1_esense = pd.read_csv('eSense_sbj1.csv', names = c_heads)\n",
    "df_sub1_esense['Time'] = pd.to_datetime(df_sub1_esense['Time'], unit = 'ms') + pd.Timedelta('02:00:00')\n",
    "df_sub1_esense = df_sub1_esense.set_index('Time').resample('10L', offset = 4000000).first().interpolate()\n",
    "df_sub1_esense.sort_index()\n",
    "\n",
    "df_sub2_esense = pd.read_csv('eSense_sbj2.csv', names = c_heads)\n",
    "df_sub2_esense['Time'] = pd.to_datetime(df_sub2_esense['Time'], unit = 'ms') + pd.Timedelta('02:00:00')\n",
    "df_sub2_esense = df_sub2_esense.set_index('Time').resample('10L', offset = 4000000).first().interpolate()\n",
    "df_sub2_esense = df_sub2_esense.sort_index()\n",
    "\n",
    "#df_sub1_esense #df_sub2_esense"
   ]
  },
  {
   "cell_type": "markdown",
   "metadata": {},
   "source": [
    "**Subject 1 and 2 Ankle**"
   ]
  },
  {
   "cell_type": "code",
   "execution_count": 3,
   "metadata": {},
   "outputs": [],
   "source": [
    "#Subject 1 ankle\n",
    "'''df_dribbling1_ankle = pd.read_csv('dribbling_sbj1_ankle.csv', index_col = 0, comment= ';')\n",
    "df_dribbling1_ankle.index = pd.date_range(start = '2021-04-14 18:22:13.553', periods = df_dribbling1_ankle.shape[0], freq = \"10.869565L\")\n",
    "df_dribbling1_ankle = df_dribbling1_ankle.resample('10L', offset = 3000000).first().interpolate()\n",
    "df_dribbling1_ankle'''\n",
    "\n",
    "df_layup1_ankle = pd.read_csv('layup_sbj1_ankle.csv', index_col = 0, comment= ';')\n",
    "df_layup1_ankle.index = pd.date_range(start = '2021-04-14 18:22:13.554', periods = df_layup1_ankle.shape[0], freq = \"10.869565L\")\n",
    "df_layup1_ankle = df_layup1_ankle.resample('10L', offset = 4000000).first().interpolate()\n",
    "\n",
    "df_movements1_ankle_1 = pd.read_csv('movements_sbj1_ankle_1.csv', index_col = 0, comment= ';')\n",
    "df_movements1_ankle_1.index = pd.date_range(start = '2021-04-14 18:42:32.024', periods = df_movements1_ankle_1.shape[0], freq = \"10.869565L\")\n",
    "df_movements1_ankle_1 = df_movements1_ankle_1.resample('10L', offset = 4000000).first().interpolate()\n",
    "\n",
    "df_shooting1_ankle_1 = pd.read_csv('shooting_sbj1_ankle.csv', index_col = 0, comment= ';')\n",
    "df_shooting1_ankle_1.index = pd.date_range(start = '2021-04-14 18:12:54.024', periods = df_shooting1_ankle_1.shape[0], freq = \"10.869565L\")\n",
    "df_shooting1_ankle_1 = df_shooting1_ankle_1.resample('10L', offset = 4000000).first().interpolate()\n",
    "\n",
    "df_sub1_ankle = pd.concat([df_layup1_ankle,df_movements1_ankle_1,df_shooting1_ankle_1])\n",
    "df_sub1_ankle = df_sub1_ankle.set_axis(['a1', 'a2', 'a3'], axis = 'columns')\n",
    "df_sub1_ankle = df_sub1_ankle.sort_index()\n",
    "#df_sub1_ankle\n",
    "\n",
    "\n",
    "#Subject 2 ankle\n",
    "df_dribbling2_ankle = pd.read_csv('dribbling_sbj2_ankle.csv', index_col = 0, comment= ';')\n",
    "df_dribbling2_ankle.index = pd.date_range(start = '2021-04-14 19:26:42.914', periods = df_dribbling2_ankle.shape[0], freq = \"10.869565L\")\n",
    "df_dribbling2_ankle = df_dribbling2_ankle.resample('10L', offset = 4000000).first().interpolate()\n",
    "\n",
    "df_layup2_ankle = pd.read_csv('layup_sbj2_ankle.csv', index_col = 0, comment= ';')\n",
    "df_layup2_ankle.index = pd.date_range(start = '2021-04-14 19:16:25.794', periods = df_layup2_ankle.shape[0], freq = \"10.869565L\")\n",
    "df_layup2_ankle = df_layup2_ankle.resample('10L', offset = 4000000).first().interpolate()\n",
    "\n",
    "df_movements2_ankle_1 = pd.read_csv('movements_sbj2_ankle_1.csv', index_col = 0, comment= ';') \n",
    "df_movements2_ankle_1.index = pd.date_range(start = '2021-04-14 19:36:19.244', periods = df_movements2_ankle_1.shape[0], freq = \"10.869565L\")\n",
    "df_movements2_ankle_1 = df_movements2_ankle_1.resample('10L', offset = 4000000).first().interpolate()\n",
    "\n",
    "df_shooting2_ankle_1 = pd.read_csv('shooting_sbj2_ankle_1.csv', index_col = 0, comment= ';')\n",
    "df_shooting2_ankle_1.index = pd.date_range(start = '2021-04-14 18:55:50.364', periods = df_shooting2_ankle_1.shape[0], freq = \"10.869565L\")\n",
    "df_shooting2_ankle_1 = df_shooting2_ankle_1.resample('10L', offset = 4000000).first().interpolate()\n",
    "\n",
    "df_sub2_ankle = pd.concat([df_dribbling2_ankle, df_layup2_ankle, df_movements2_ankle_1, df_shooting2_ankle_1])\n",
    "df_sub2_ankle = df_sub2_ankle.set_axis(['a1','a2','a3'], axis = 'columns')\n",
    "df_sub2_ankle = df_sub2_ankle.sort_index()\n",
    "#df_sub2_ankle"
   ]
  },
  {
   "cell_type": "markdown",
   "metadata": {},
   "source": [
    "**Subject 1 and 2 Wrist**"
   ]
  },
  {
   "cell_type": "code",
   "execution_count": 4,
   "metadata": {},
   "outputs": [],
   "source": [
    "#Subject 1 wrist\n",
    "#df_dribbling1_wrist = pd.read_csv('dribbling_sbj1_wrist.csv', index_col = 0, comment= ';')\n",
    "#df_dribbling1_wrist.index = pd.date_range(start = '2021-04-14 18:32:17.683', periods = df_dribbling1_wrist.shape[0], freq = \"10.869565L\")\n",
    "#df_dribbling1_wrist = df_dribbling1_wrist.resample('10L', offset = 3000000).first().interpolate()\n",
    "\n",
    "df_layup1_wrist = pd.read_csv('layup_sbj1_wrist.csv', index_col = 0, comment= ';')\n",
    "df_layup1_wrist.index = pd.date_range(start = '2021-04-14 18:22:52.524', periods = df_layup1_wrist.shape[0], freq = \"10.869565L\")\n",
    "df_layup1_wrist = df_layup1_wrist.resample('10L', offset = 4000000).first().interpolate()\n",
    "\n",
    "df_movements1_wrist = pd.read_csv('movements_sbj1_wrist.csv', index_col = 0, comment= ';')\n",
    "df_movements1_wrist.index = pd.date_range(start = '2021-04-14 18:42:05.244', periods = df_movements1_wrist.shape[0], freq = \"10.869565L\")\n",
    "df_movements1_wrist = df_movements1_wrist.resample('10L', offset = 4000000).first().interpolate()\n",
    "\n",
    "df_shooting1_wrist = pd.read_csv('shooting_sbj1_wrist.csv', index_col = 0, comment= ';')\n",
    "df_shooting1_wrist.index = pd.date_range(start = '2021-04-14 18:42:05.244', periods = df_shooting1_wrist.shape[0], freq = \"10.869565L\")\n",
    "df_shooting1_wrist = df_shooting1_wrist.resample('10L', offset = 4000000).first().interpolate()\n",
    "\n",
    "df_sub1_wrist = pd.concat([df_layup1_wrist, df_movements1_wrist, df_shooting1_wrist])\n",
    "df_sub1_wrist = df_sub1_wrist.set_axis(['w1','w2','w3'], axis = 'columns')\n",
    "#df_sub1_wrist.sort_index()\n",
    "#df_sub1_wrist\n",
    "\n",
    "\n",
    "#Subject 2 wrist\n",
    "df_dribbling2_wrist = pd.read_csv('dribbling_sbj2_wrist.csv', index_col = 0, comment= ';')\n",
    "df_dribbling2_wrist.index = pd.date_range(start = '2021-04-14 19:26:24.464', periods = df_dribbling2_wrist.shape[0], freq = \"10.869565L\")\n",
    "df_dribbling2_wrist = df_dribbling2_wrist.resample('10L',  offset = 4000000).first().interpolate()\n",
    "\n",
    "df_layup2_wrist = pd.read_csv('layup_sbj2_wrist.csv', index_col = 0, comment= ';')\n",
    "df_layup2_wrist.index = pd.date_range(start = '2021-04-14 19:16:05.604', periods = df_layup2_wrist.shape[0], freq = \"10.869565L\")\n",
    "df_layup2_wrist = df_layup2_wrist.resample('10L',  offset = 4000000).first().interpolate()\n",
    "\n",
    "df_movements2_wrist = pd.read_csv('movements_sbj2_wrist.csv', index_col = 0, comment= ';') \n",
    "df_movements2_wrist.index = pd.date_range(start = '2021-04-14 19:36:45.074', periods = df_movements2_wrist.shape[0], freq = \"10.869565L\")\n",
    "df_movements2_wrist = df_movements2_wrist.resample('10L',  offset = 4000000).first().interpolate()\n",
    "\n",
    "df_shooting2_wrist = pd.read_csv('shooting_sbj2_wrist.csv', index_col = 0, comment= ';')\n",
    "df_shooting2_wrist.index = pd.date_range(start = '2021-04-14 18:56:21.474', periods = df_shooting2_wrist.shape[0], freq = \"10.869565L\")\n",
    "df_shooting2_wrist = df_shooting2_wrist.resample('10L',  offset = 4000000).first().interpolate()\n",
    "\n",
    "df_sub2_wrist = pd.concat([df_dribbling2_wrist, df_layup2_wrist, df_movements2_wrist, df_shooting2_wrist])\n",
    "df_sub2_wrist = df_sub2_wrist.set_axis(['w1','w2','w3'], axis = 'columns')\n",
    "#df_sub2_wrist.sort_index()\n",
    "#df_sub2_wrist\n"
   ]
  },
  {
   "cell_type": "markdown",
   "metadata": {},
   "source": [
    "**Merging and Normalising**"
   ]
  },
  {
   "cell_type": "code",
   "execution_count": 5,
   "metadata": {
    "scrolled": true
   },
   "outputs": [],
   "source": [
    "df_sub1 = df_sub1_esense.merge(df_sub1_ankle, left_index=True, right_index=True)\n",
    "df_1 = df_sub1.merge(df_sub1_wrist, left_index=True, right_index=True)\n",
    "df_1 = (df_1 - df_1.mean()) / df_1.std()\n",
    "df_1 = df_1.drop(['Device'], axis = 1)\n",
    "#df_1\n",
    "\n",
    "\n",
    "df_sub2 = df_sub2_esense.merge(df_sub2_ankle, left_index=True, right_index=True)\n",
    "df_2 = df_sub2.merge(df_sub2_wrist, left_index=True, right_index=True)\n",
    "df_2 = (df_2 - df_2.mean()) / df_2.std()\n",
    "df_2 = df_2.drop(['Device'], axis = 1)\n",
    "#df_2"
   ]
  },
  {
   "cell_type": "markdown",
   "metadata": {},
   "source": [
    "**Finding Intersecting samples**"
   ]
  },
  {
   "cell_type": "code",
   "execution_count": 6,
   "metadata": {},
   "outputs": [],
   "source": [
    "intersection_1 = [df_1.index.isin(df_1.between_time('18:23:14', '18:25:28').index),\n",
    "                  df_1.index.isin(df_1.between_time('18:45:17', '18:47:16').index),\n",
    "                  df_1.index.isin(df_1.between_time('18:13:25', '18:15:47').index),\n",
    "                  df_1.index.isin(df_1.between_time('18:42:48', '18:45:17').index)]\n",
    "activity_1 = ['layup', 'running', 'shooting', 'walking']\n",
    "df_1['Label'] = np.select(intersection_1, activity_1, 'Null')\n",
    "df_1 = df_1[['e1','e2','e3','e4','e5','e6','a1','a2','a3','w1','w2','w3','Label']]\n",
    "#df_1['Subjects'] = 'Subject1'\n",
    "#df_1 = df_1[['e1','e2','e3','e4','e5','e6','a1','a2','a3','w1','w2','w3','Label','Subjects']]\n",
    "\n",
    "\n",
    "intersection_2 = [df_2.index.isin(df_2.between_time('19:26:58', '19:29:59').index), \n",
    "                df_2.index.isin(df_2.between_time('19:17:35', '19:20:14').index),\n",
    "                df_2.index.isin(df_2.between_time('19:39:47', '19:41:55').index),\n",
    "                df_2.index.isin(df_2.between_time('19:00:14', '19:02:12').index),\n",
    "                df_2.index.isin(df_2.between_time('19:37:15', '19:39:46').index)]\n",
    "activity_2 = ['dribbling', 'layup', 'running', 'shooting', 'walking']\n",
    "df_2['Label'] = np.select(intersection_2, activity_2, 'Null')\n",
    "df_2 = df_2[['e1','e2','e3','e4','e5','e6','a1','a2','a3','w1','w2','w3','Label']]\n",
    "#df_2['Subjects'] = 'Subject2'\n",
    "#df_2 = df_2[['e1','e2','e3','e4','e5','e6','a1','a2','a3','w1','w2','w3','Label','Subjects']]\n",
    "\n",
    "\n",
    "df = pd.concat([df_1, df_2])\n",
    "df.reset_index(drop=True, inplace=True)\n",
    "df.to_csv('df_activity.csv')\n",
    "df.to_csv('C:/Users/Nishanth Siegener/Downloads/Long term activity detection/RAML_basketball_data Password RAML_SoSe21/RAML_basketball_dataset/sensor_data original/df_activity.csv')\n",
    "#df"
   ]
  },
  {
   "cell_type": "code",
   "execution_count": 7,
   "metadata": {},
   "outputs": [],
   "source": [
    "null = df[df['Label'].str.contains('Null')]\n",
    "dribbling = df[df['Label'].str.contains('dribbling')]\n",
    "layup = df[df['Label'].str.contains('layup')]\n",
    "running = df[df['Label'].str.contains('running')]\n",
    "shooting = df[df['Label'].str.contains('shooting')]\n",
    "walking = df[df['Label'].str.contains('walking')]"
   ]
  }
 ],
 "metadata": {
  "kernelspec": {
   "display_name": "Python 3",
   "language": "python",
   "name": "python3"
  },
  "language_info": {
   "codemirror_mode": {
    "name": "ipython",
    "version": 3
   },
   "file_extension": ".py",
   "mimetype": "text/x-python",
   "name": "python",
   "nbconvert_exporter": "python",
   "pygments_lexer": "ipython3",
   "version": "3.8.8"
  }
 },
 "nbformat": 4,
 "nbformat_minor": 4
}
